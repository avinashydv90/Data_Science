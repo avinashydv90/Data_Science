{
 "cells": [
  {
   "cell_type": "markdown",
   "id": "38a0e615",
   "metadata": {},
   "source": [
    "## Q1. Explain Class and Object with respect to Object-Oriented Programming. Give a suitable example.\n",
    "## Ans. In Object-Oriented Programming (OOP), a class is a blueprint or template for creating objects. An object is an instance of a class and represents an entity in the real world with its own properties (also known as attributes) and behaviors (also known as methods).\n",
    "\n",
    "## For example, consider the case of a \"Person\" class. The properties of a person could be name, age, address, etc., and the behaviors could be walking, talking, eating, etc. Each person, represented as an object, will have its own unique values for these properties and can perform the behaviors.\n",
    "\n",
    "## Here's a simple implementation of the \"Person\" class in Python:"
   ]
  },
  {
   "cell_type": "code",
   "execution_count": 14,
   "id": "fc01ba2c",
   "metadata": {},
   "outputs": [],
   "source": [
    "class person:\n",
    "    def __init__(self,name,age,gender):\n",
    "        self.name=name\n",
    "        self.age=age\n",
    "        self.gender=gender\n",
    "    \n",
    "    def return_person(self):\n",
    "        return self.name,self.age,self.gender\n",
    "\n",
    "person1=person('Avinash',30,'Male')"
   ]
  },
  {
   "cell_type": "code",
   "execution_count": 15,
   "id": "25cafac9",
   "metadata": {},
   "outputs": [
    {
     "data": {
      "text/plain": [
       "('Avinash', 30, 'Male')"
      ]
     },
     "execution_count": 15,
     "metadata": {},
     "output_type": "execute_result"
    }
   ],
   "source": [
    "person1.return_person()"
   ]
  },
  {
   "cell_type": "markdown",
   "id": "6c2d2568",
   "metadata": {},
   "source": [
    "## Q2. Name the four pillars of OOPs.\n",
    "## Ans. Four Pillars of OOPS\n",
    "##          1.Encapsulation\n",
    "##          2. Abstraction\n",
    "##          3. Inheritance\n",
    "##          4.Polymorphism"
   ]
  },
  {
   "cell_type": "markdown",
   "id": "06ae9874",
   "metadata": {},
   "source": [
    "## -----------------------------------------------------------------------------------------------------------------------\n",
    "## Q3. Explain why the __init__() function is used. Give a suitable example.\n",
    "## Ans. __init__() is used to create constructor of the class.\n",
    "## example below"
   ]
  },
  {
   "cell_type": "code",
   "execution_count": 16,
   "id": "7bcecbce",
   "metadata": {},
   "outputs": [],
   "source": [
    "class Car:\n",
    "    def __init__(car,model,year):\n",
    "        car.model=model\n",
    "        car.year=year\n",
    "    def car_data(self):\n",
    "        return self.model,self.year\n",
    "\n",
    "Innova=Car('Crysta',2012)"
   ]
  },
  {
   "cell_type": "code",
   "execution_count": 17,
   "id": "3f8deae0",
   "metadata": {},
   "outputs": [
    {
     "data": {
      "text/plain": [
       "('Crysta', 2012)"
      ]
     },
     "execution_count": 17,
     "metadata": {},
     "output_type": "execute_result"
    }
   ],
   "source": [
    "Innova.car_data()"
   ]
  },
  {
   "cell_type": "markdown",
   "id": "9dd6fc6a",
   "metadata": {},
   "source": [
    "## Q4. Why self is used in OOPs?\n",
    "## Ans. In Object-Oriented Programming (OOP) in Python, self is used to refer to the instance of the object being used within a method. In other words, self represents the current object and is used to access its attributes and methods.\n",
    "\n",
    "## When a method is called on an object, the object itself is passed as the first argument to the method. By convention, this argument is named self, but it could be named anything else. The use of self allows you to access the properties and methods of the current object within the method."
   ]
  },
  {
   "cell_type": "markdown",
   "id": "6e8029ce",
   "metadata": {},
   "source": [
    "## Q5. What is inheritance? Give an example for each type of inheritance.\n",
    "## Ans. Inheritance is a mechanism in Object-Oriented Programming (OOP) that allows a new class to inherit properties and behaviors from an existing class. The new class is known as the derived class or subclass, while the existing class is known as the base class or superclass. Inheritance enables code reuse and helps to create a hierarchical relationship between classes.\n",
    "\n",
    "## There are several types of inheritance in OOP, including:\n",
    "\n",
    "## 1. Single inheritance: A class inherits from a single parent class. Example: class Dog inherits from class Animal.\n",
    "## Example in Python:"
   ]
  },
  {
   "cell_type": "code",
   "execution_count": 23,
   "id": "c30bce4c",
   "metadata": {},
   "outputs": [
    {
     "name": "stdout",
     "output_type": "stream",
     "text": [
      "Max 32\n",
      "Woof!\n"
     ]
    }
   ],
   "source": [
    "class Animal:\n",
    "    def __init__(self, name,age):\n",
    "        self.name = name\n",
    "        self.age=age\n",
    "        \n",
    "    def display_name(self):\n",
    "        print(self.name,self.age)\n",
    "        \n",
    "class Dog(Animal):\n",
    "    def bark(self):\n",
    "        print(\"Woof!\")\n",
    "        \n",
    "dog = Dog(\"Max\",32)\n",
    "dog.display_name()\n",
    "dog.bark()\n"
   ]
  },
  {
   "cell_type": "markdown",
   "id": "d202f2bc",
   "metadata": {},
   "source": [
    "## 2. Multiple Inheritance: A subclass inherits from multiple parent classes. Example:"
   ]
  },
  {
   "cell_type": "code",
   "execution_count": 24,
   "id": "90eab230",
   "metadata": {},
   "outputs": [
    {
     "name": "stdout",
     "output_type": "stream",
     "text": [
      "Name: Batman\n",
      "Flying\n"
     ]
    }
   ],
   "source": [
    "class Mammal:\n",
    "    def __init__(self, name):\n",
    "        self.name = name\n",
    "        \n",
    "    def display_name(self):\n",
    "        print(f\"Name: {self.name}\")\n",
    "        \n",
    "class Bird:\n",
    "    def __init__(self, name):\n",
    "        self.name = name\n",
    "    \n",
    "    def fly(self):\n",
    "        print(\"Flying\")\n",
    "        \n",
    "class Bat(Mammal, Bird):\n",
    "    def __init__(self, name):\n",
    "        Mammal.__init__(self, name)\n",
    "        \n",
    "bat = Bat(\"Batman\")\n",
    "bat.display_name()\n",
    "bat.fly()\n"
   ]
  },
  {
   "cell_type": "markdown",
   "id": "f1f66391",
   "metadata": {},
   "source": [
    "## 3.Hierarchical Inheritance: Multiple subclasses inherit from a single parent class. Example:"
   ]
  },
  {
   "cell_type": "code",
   "execution_count": 25,
   "id": "981f2631",
   "metadata": {},
   "outputs": [
    {
     "name": "stdout",
     "output_type": "stream",
     "text": [
      "Name: Max\n",
      "Woof!\n",
      "Name: Fluffy\n",
      "Meow!\n"
     ]
    }
   ],
   "source": [
    "class Animal:\n",
    "    def __init__(self, name):\n",
    "        self.name = name\n",
    "        \n",
    "    def display_name(self):\n",
    "        print(f\"Name: {self.name}\")\n",
    "        \n",
    "class Dog(Animal):\n",
    "    def bark(self):\n",
    "        print(\"Woof!\")\n",
    "        \n",
    "class Cat(Animal):\n",
    "    def meow(self):\n",
    "        print(\"Meow!\")\n",
    "        \n",
    "dog = Dog(\"Max\")\n",
    "dog.display_name()\n",
    "dog.bark()\n",
    "\n",
    "cat = Cat(\"Fluffy\")\n",
    "cat.display_name()\n",
    "cat.meow()\n"
   ]
  },
  {
   "cell_type": "markdown",
   "id": "55beb758",
   "metadata": {},
   "source": [
    "## 4.Multilevel Inheritance: A subclass inherits from a parent class, which itself inherits from another parent class. Example:"
   ]
  },
  {
   "cell_type": "code",
   "execution_count": 26,
   "id": "251290d3",
   "metadata": {},
   "outputs": [
    {
     "name": "stdout",
     "output_type": "stream",
     "text": [
      "Name: Buddy\n",
      "Woof!\n",
      "Fetching\n"
     ]
    }
   ],
   "source": [
    "class Animal:\n",
    "    def __init__(self, name):\n",
    "        self.name = name\n",
    "        \n",
    "    def display_name(self):\n",
    "        print(f\"Name: {self.name}\")\n",
    "        \n",
    "class Dog(Animal):\n",
    "    def bark(self):\n",
    "        print(\"Woof!\")\n",
    "        \n",
    "class GoldenRetriever(Dog):\n",
    "    def fetch(self):\n",
    "        print(\"Fetching\")\n",
    "        \n",
    "golden_retriever = GoldenRetriever(\"Buddy\")\n",
    "golden_retriever.display_name()\n",
    "golden_retriever.bark()\n",
    "golden_retriever.fetch()\n"
   ]
  },
  {
   "cell_type": "code",
   "execution_count": null,
   "id": "88cee0e3",
   "metadata": {},
   "outputs": [],
   "source": []
  },
  {
   "cell_type": "code",
   "execution_count": null,
   "id": "8125e0e5",
   "metadata": {},
   "outputs": [],
   "source": []
  },
  {
   "cell_type": "code",
   "execution_count": null,
   "id": "38bc453b",
   "metadata": {},
   "outputs": [],
   "source": []
  }
 ],
 "metadata": {
  "kernelspec": {
   "display_name": "Python 3 (ipykernel)",
   "language": "python",
   "name": "python3"
  },
  "language_info": {
   "codemirror_mode": {
    "name": "ipython",
    "version": 3
   },
   "file_extension": ".py",
   "mimetype": "text/x-python",
   "name": "python",
   "nbconvert_exporter": "python",
   "pygments_lexer": "ipython3",
   "version": "3.9.13"
  }
 },
 "nbformat": 4,
 "nbformat_minor": 5
}
