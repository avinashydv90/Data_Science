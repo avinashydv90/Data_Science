{
 "cells": [
  {
   "cell_type": "markdown",
   "id": "d1cea100",
   "metadata": {},
   "source": [
    "# Q1. What are the characteristics of the tuples? Is tuple immutable?\n",
    "# Ans. Characteristics of Tuples\n",
    "# \t\t•\tThey are indexed.\n",
    "# \t\t•\tTuples are ordered.\n",
    "#  \t\t•\tThese are immutable.\n",
    "# \t\t•\tThey can contain duplicate items.\n",
    "# \t\tAnd Yes tuples are immutable once value are assigned to it cannot be changed."
   ]
  },
  {
   "cell_type": "markdown",
   "id": "5381c64e",
   "metadata": {},
   "source": [
    "# Q2. What are the two tuple methods in python? Give an example of each method. Give a reason why tuples have only two in-built methods as compared to Lists.\n",
    "# Ans. Two tuple method are :\n",
    "# \t\t1.\tCount\n",
    "# \t\t2.\tIndex\n",
    "# \t\tExample: tuple=(1,2,2,3)\n",
    "# \t\t\t\t tuple.count(2)\n",
    "# \t\t\t\t output: 2\n",
    "# \t\t\t\t tuple.index(2)\n",
    "# \t\t\t\t output :1 \n",
    "# \t\tReason why tuple have only 2 in-built methods as compared to lists\n",
    "# \t\t1. The key difference between the tuples and lists is that while the tuples are immutable objects the lists are mutable. This means that tuples cannot be changed while the lists can be modified.\n",
    "# \t\t2. Tuples are more memory efficient than the lists.\n",
    "# \t\t3. When it comes to the time efficiency, tuples have a slight advantage over the lists especially when we consider lookup value.\n",
    "# \t\t4. If you have data that shouldn’t change, you should choose tuple data type over lists."
   ]
  },
  {
   "cell_type": "code",
   "execution_count": 9,
   "id": "e58bbfcb",
   "metadata": {},
   "outputs": [
    {
     "name": "stdout",
     "output_type": "stream",
     "text": [
      "count of 2 is:  2\n",
      "Index of 2 is:  1\n"
     ]
    }
   ],
   "source": [
    "tuple=(1,2,2,3)\n",
    "print(f\"count of 2 is: \",tuple.count(2))\n",
    "print(f\"Index of 2 is: \",tuple.index(2))"
   ]
  },
  {
   "cell_type": "markdown",
   "id": "b002e7c0",
   "metadata": {},
   "source": [
    "# Q3. Which collection datatypes in python do not allow duplicate items? Write a code using a set to remove duplicates from the given list.\n",
    "# Ans. Set does not allow duplicate items.\n",
    "# \t Code using a set to remove duplicate from the given list\n",
    "# \t\texample:\tList = [1, 1, 1, 2, 1, 3, 1, 4, 2, 1, 2, 2, 2, 3, 2, 4, 3, 1, 3, 2, 3, 3, 3, 4, 4, 1, 4, 2, 4, 3, 4, 4]\n",
    "# \t\t\t\t\tlist(set(List))\n",
    "# \t\toutput:\t\t[1, 2, 3, 4]"
   ]
  },
  {
   "cell_type": "code",
   "execution_count": 10,
   "id": "c2df30a4",
   "metadata": {},
   "outputs": [
    {
     "data": {
      "text/plain": [
       "[1, 2, 3, 4]"
      ]
     },
     "execution_count": 10,
     "metadata": {},
     "output_type": "execute_result"
    }
   ],
   "source": [
    "List = [1, 1, 1, 2, 1, 3, 1, 4, 2, 1, 2, 2, 2, 3, 2, 4, 3, 1, 3, 2, 3, 3, 3, 4, 4, 1, 4, 2, 4, 3, 4, 4]\n",
    "list(set(List))"
   ]
  },
  {
   "cell_type": "markdown",
   "id": "3b1c373c",
   "metadata": {},
   "source": [
    "# Q6. Can we create a nested dictionary? If so, please give an example by creating a simple one-level nested dictionary."
   ]
  },
  {
   "cell_type": "markdown",
   "id": "574a055c",
   "metadata": {},
   "source": [
    "# yes we can create nested dictionary\n",
    "# Example below"
   ]
  },
  {
   "cell_type": "code",
   "execution_count": 1,
   "id": "5c40e5a0",
   "metadata": {},
   "outputs": [
    {
     "data": {
      "text/plain": [
       "{'car': {'automatic': 'Thar', 'manual': 'Maruti'},\n",
       " 'Gun': {'heavy': 'Machine Gun', 'normal': 'Pistol'}}"
      ]
     },
     "execution_count": 1,
     "metadata": {},
     "output_type": "execute_result"
    }
   ],
   "source": [
    "nesteddictionary={'car':{'automatic':'Thar','manual':'Maruti'},'Gun':{'heavy':'Machine Gun','normal':'Pistol'}}\n",
    "nesteddictionary"
   ]
  },
  {
   "cell_type": "markdown",
   "id": "4ee29639",
   "metadata": {},
   "source": [
    "# Q7. Using setdefault() method, create key named topics in the given dictionary and also add the value of the key as this list ['Python', 'Machine Learning’, 'Deep Learning']\n",
    "# dict1 = {'language' : 'Python', 'course': 'Data Science Masters'}"
   ]
  },
  {
   "cell_type": "code",
   "execution_count": 5,
   "id": "0c476ce2",
   "metadata": {},
   "outputs": [
    {
     "data": {
      "text/plain": [
       "{'language': 'Python',\n",
       " 'course': 'Data Science Masters',\n",
       " 'topics': ['Python', 'Machine Learning', 'Deep Learning']}"
      ]
     },
     "execution_count": 5,
     "metadata": {},
     "output_type": "execute_result"
    }
   ],
   "source": [
    "dict1 = {'language' : 'Python', 'course': 'Data Science Masters'}\n",
    "dict1.setdefault('topics', []).extend(['Python', 'Machine Learning', 'Deep Learning'])\n",
    "dict1"
   ]
  },
  {
   "cell_type": "markdown",
   "id": "dc3af13a",
   "metadata": {},
   "source": [
    "# Q8. What are the three view objects in dictionaries? Use the three in-built methods in python to display these three view objects for the given dictionary.\n",
    "# dict1 = {'Sport': 'Cricket' , 'Teams': ['India', 'Australia', 'England', 'South Africa', 'Sri Lanka', 'New Zealand']}"
   ]
  },
  {
   "cell_type": "code",
   "execution_count": 6,
   "id": "f6ed47bc",
   "metadata": {},
   "outputs": [
    {
     "name": "stdout",
     "output_type": "stream",
     "text": [
      "dict_keys(['Sport', 'Teams'])\n",
      "dict_values(['Cricket', ['India', 'Australia', 'England', 'South Africa', 'Sri Lanka', 'New Zealand']])\n",
      "dict_items([('Sport', 'Cricket'), ('Teams', ['India', 'Australia', 'England', 'South Africa', 'Sri Lanka', 'New Zealand'])])\n"
     ]
    }
   ],
   "source": [
    "dict1 = {'Sport': 'Cricket' , 'Teams': ['India', 'Australia', 'England', 'South Africa', 'Sri Lanka', 'New Zealand']}\n",
    "\n",
    "# display keys\n",
    "print(dict1.keys())\n",
    "\n",
    "# display values\n",
    "print(dict1.values())\n",
    "\n",
    "# display items\n",
    "print(dict1.items())\n"
   ]
  },
  {
   "cell_type": "code",
   "execution_count": null,
   "id": "f01de44e",
   "metadata": {},
   "outputs": [],
   "source": []
  }
 ],
 "metadata": {
  "kernelspec": {
   "display_name": "Python 3 (ipykernel)",
   "language": "python",
   "name": "python3"
  },
  "language_info": {
   "codemirror_mode": {
    "name": "ipython",
    "version": 3
   },
   "file_extension": ".py",
   "mimetype": "text/x-python",
   "name": "python",
   "nbconvert_exporter": "python",
   "pygments_lexer": "ipython3",
   "version": "3.9.13"
  }
 },
 "nbformat": 4,
 "nbformat_minor": 5
}
