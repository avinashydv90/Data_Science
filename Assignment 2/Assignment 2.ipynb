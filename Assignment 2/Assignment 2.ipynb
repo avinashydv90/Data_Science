{
 "cells": [
  {
   "cell_type": "markdown",
   "id": "3763394c",
   "metadata": {},
   "source": [
    "# #Assignment -2\n"
   ]
  },
  {
   "cell_type": "code",
   "execution_count": 1,
   "id": "9deb6656",
   "metadata": {},
   "outputs": [
    {
     "name": "stdout",
     "output_type": "stream",
     "text": [
      "Enter Percentage56\n",
      "Your grade is : D\n"
     ]
    }
   ],
   "source": [
    "#Question 1\n",
    "percentage=float(input(\"Enter Percentage\"))\n",
    "if percentage>90:\n",
    "    print(\"Your grade is : A\")\n",
    "elif percentage >80 and percentage<=90:\n",
    "    print(\"Your grade is : B\")\n",
    "elif percentage >=60 and percentage<=80 :\n",
    "    print(\"Your grade is : C\")\n",
    "else:\n",
    "    print(\"Your grade is : D\")"
   ]
  },
  {
   "cell_type": "code",
   "execution_count": 4,
   "id": "7181f557",
   "metadata": {},
   "outputs": [
    {
     "name": "stdout",
     "output_type": "stream",
     "text": [
      "Enter Cost of bike51000\n",
      "Road tax of bike is 5100.0\n"
     ]
    }
   ],
   "source": [
    "# Question 2\n",
    "cost_price=float(input(\"Enter Cost of bike \"))\n",
    "if cost_price>100000:\n",
    "    print(f\"Road tax of bike is {cost_price*(15/100)}\")\n",
    "elif cost_price>50000 and cost_price<=100000:\n",
    "    print(f\"Road tax of bike is {cost_price*(10/100)}\")\n",
    "else:\n",
    "    print(f\"Road tax of bike is {cost_price*(5/100)}\")"
   ]
  },
  {
   "cell_type": "code",
   "execution_count": 7,
   "id": "731131c6",
   "metadata": {},
   "outputs": [
    {
     "name": "stdout",
     "output_type": "stream",
     "text": [
      "Enter City Delhi\n",
      "Red Fort\n"
     ]
    }
   ],
   "source": [
    "# Question 3\n",
    "city=input(\"Enter City \")\n",
    "if city.lower()==\"delhi\":\n",
    "    print(\"Red Fort\")\n",
    "elif city.lower()==\"agra\":\n",
    "    print(\"Taj Mahal\")\n",
    "elif city.lower()==\"jaipur\":\n",
    "    print(\"Jai Mahal\")\n",
    "else:\n",
    "    print(\"No Monuments in this city\")\n"
   ]
  },
  {
   "cell_type": "code",
   "execution_count": 17,
   "id": "01ef18e6",
   "metadata": {},
   "outputs": [
    {
     "name": "stdout",
     "output_type": "stream",
     "text": [
      "Enter number 788\n",
      "the number can be divide by 3  4\n"
     ]
    }
   ],
   "source": [
    "# Question 4\n",
    "number=float(input(\"Enter number \"))\n",
    "count_of_division=0\n",
    "while number>=10:\n",
    "    number=number/3\n",
    "    count_of_division=count_of_division+1\n",
    "print(\"the number can be divide by 3 \",count_of_division)"
   ]
  },
  {
   "cell_type": "markdown",
   "id": "f1fd47e7",
   "metadata": {},
   "source": [
    "# Question 5\n",
    "## A while loop in Python is used to repeat a block of code as long as a condition is met.\n",
    "## like in previous question we have to check how many time a number can be divide by 3.\n",
    "## unless it is less than or equal to 10 . SO in this case where we have to check the repetative condition then we can use while loop."
   ]
  },
  {
   "cell_type": "code",
   "execution_count": 28,
   "id": "f1e75f5b",
   "metadata": {},
   "outputs": [
    {
     "name": "stdout",
     "output_type": "stream",
     "text": [
      "Enter rows: 4\n",
      "*\n",
      "**\n",
      "***\n",
      "****\n"
     ]
    }
   ],
   "source": [
    "# Question 6\n",
    "rows = int(input(\"Enter rows: \"))\n",
    "\n",
    "i = 1\n",
    "while i <= rows:\n",
    "    j = 1\n",
    "    while j <= i:\n",
    "        print(\"*\", end=\"\")\n",
    "        j += 1\n",
    "    print()\n",
    "    i += 1\n"
   ]
  },
  {
   "cell_type": "code",
   "execution_count": 29,
   "id": "47e05d07",
   "metadata": {},
   "outputs": [
    {
     "name": "stdout",
     "output_type": "stream",
     "text": [
      "Enter rows: 4\n",
      "****\n",
      "***\n",
      "**\n",
      "*\n"
     ]
    }
   ],
   "source": [
    "rows = int(input(\"Enter rows: \"))\n",
    "\n",
    "i = rows\n",
    "while i >= 1:\n",
    "    j = 1\n",
    "    while j <= i:\n",
    "        print(\"*\", end=\"\")\n",
    "        j += 1\n",
    "    print()\n",
    "    i -= 1\n"
   ]
  },
  {
   "cell_type": "code",
   "execution_count": 30,
   "id": "439f3395",
   "metadata": {},
   "outputs": [
    {
     "name": "stdout",
     "output_type": "stream",
     "text": [
      "Enter rows: 5\n",
      "    *\n",
      "   **\n",
      "  ***\n",
      " ****\n",
      "*****\n"
     ]
    }
   ],
   "source": [
    "rows = int(input(\"Enter rows: \"))\n",
    "for i in range(1, rows+1):\n",
    "    for j in range(rows-i):\n",
    "        print(\" \", end=\"\")\n",
    "    for k in range(1, i+1):\n",
    "        print(\"*\", end=\"\")\n",
    "    print(\"\")"
   ]
  },
  {
   "cell_type": "code",
   "execution_count": 31,
   "id": "e31feef1",
   "metadata": {},
   "outputs": [
    {
     "name": "stdout",
     "output_type": "stream",
     "text": [
      "10\n",
      "9\n",
      "8\n",
      "7\n",
      "6\n",
      "5\n",
      "4\n",
      "3\n",
      "2\n",
      "1\n"
     ]
    }
   ],
   "source": [
    "# Question 7 and 8\n",
    "number=10\n",
    "while number>0:\n",
    "    print(number)\n",
    "    number=number-1"
   ]
  },
  {
   "cell_type": "code",
   "execution_count": null,
   "id": "0e39b348",
   "metadata": {},
   "outputs": [],
   "source": []
  }
 ],
 "metadata": {
  "kernelspec": {
   "display_name": "Python 3 (ipykernel)",
   "language": "python",
   "name": "python3"
  },
  "language_info": {
   "codemirror_mode": {
    "name": "ipython",
    "version": 3
   },
   "file_extension": ".py",
   "mimetype": "text/x-python",
   "name": "python",
   "nbconvert_exporter": "python",
   "pygments_lexer": "ipython3",
   "version": "3.9.13"
  }
 },
 "nbformat": 4,
 "nbformat_minor": 5
}
