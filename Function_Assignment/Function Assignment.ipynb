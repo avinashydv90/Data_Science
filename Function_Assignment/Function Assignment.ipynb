{
 "cells": [
  {
   "cell_type": "markdown",
   "id": "c6f3df32",
   "metadata": {},
   "source": [
    "## Q1. Which keyword is used to create a function? Create a function to return a list of odd numbers in the range of 1 to 25.\n",
    "## Ans . The def keyword is used to create a function.\n",
    "\n"
   ]
  },
  {
   "cell_type": "code",
   "execution_count": 3,
   "id": "e05cb8a1",
   "metadata": {},
   "outputs": [
    {
     "data": {
      "text/plain": [
       "[1, 3, 5, 7, 9, 11, 13, 15, 17, 19, 21, 23]"
      ]
     },
     "execution_count": 3,
     "metadata": {},
     "output_type": "execute_result"
    }
   ],
   "source": [
    "def OddNumber():\n",
    "    lst_Odd=[]\n",
    "    for i in range(1,25):\n",
    "        if(i%2!=0):\n",
    "            lst_Odd.append(i)\n",
    "    return lst_Odd\n",
    "OddNumber()"
   ]
  },
  {
   "cell_type": "markdown",
   "id": "f5ba99ee",
   "metadata": {},
   "source": [
    "## Q2. Why '*args\" and \"**kwargs\" is used in some functions? Create a function each for \"*args\" and \"**kwargs\" to demonstrate their use.\n",
    "## Ans. \"*args\" and \"**kwargs\" are used in Python to pass a flexible number of arguments to a function. They allow a programmer to pass a variable number of arguments to a function, either as positional arguments packed into a tuple (\"*args\") or as keyword arguments packed into a dictionary (\"**kwargs\")\n",
    "## the use of \"*args\" and \"**kwargs\" allows for greater flexibility and control over the arguments passed to a function, making it possible to write more generic and reusable code."
   ]
  },
  {
   "cell_type": "code",
   "execution_count": 6,
   "id": "1977aa5e",
   "metadata": {},
   "outputs": [
    {
     "data": {
      "text/plain": [
       "(1, 2, 3, 4)"
      ]
     },
     "execution_count": 6,
     "metadata": {},
     "output_type": "execute_result"
    }
   ],
   "source": [
    "def demoargs(*args):\n",
    "    return args\n",
    "    #for i in args:\n",
    "        #print(i)\n",
    "demoargs(1,2,3,4)"
   ]
  },
  {
   "cell_type": "code",
   "execution_count": 8,
   "id": "dc460b44",
   "metadata": {},
   "outputs": [
    {
     "data": {
      "text/plain": [
       "{'a': 'avinash', 'b': 'PWskilss'}"
      ]
     },
     "execution_count": 8,
     "metadata": {},
     "output_type": "execute_result"
    }
   ],
   "source": [
    "def demokwargs(**kwargs):\n",
    "    return kwargs\n",
    "demokwargs(a='avinash',b='PWskilss')"
   ]
  },
  {
   "cell_type": "code",
   "execution_count": 9,
   "id": "4edf588f",
   "metadata": {},
   "outputs": [
    {
     "data": {
      "text/plain": [
       "((1, 2, 3, 4), {'a': 'avinash', 'b': 'PWskill'})"
      ]
     },
     "execution_count": 9,
     "metadata": {},
     "output_type": "execute_result"
    }
   ],
   "source": [
    "def demo_args_kwargs(*args,**kwargs):\n",
    "    return args,kwargs\n",
    "demo_args_kwargs(1,2,3,4,a='avinash',b='PWskill')"
   ]
  },
  {
   "cell_type": "markdown",
   "id": "f876ef16",
   "metadata": {},
   "source": [
    "## Q3. What is an iterator in python? Name the method used to initialise the iterator object and the method used for iteration. Use these methods to print the first five elements of the given list [2, 4, 6, 8, 10, 12, 14, 16,18, 20].\n",
    "## Ans. An iterator in Python is an object that implements the iterator protocol, which consists of two methods: __iter__ and __next__. The __iter__ method is used to initialize the iterator object, and the __next__ method is used to iterate over the elements of the object.\n",
    "## Example below"
   ]
  },
  {
   "cell_type": "code",
   "execution_count": 12,
   "id": "2002e7ee",
   "metadata": {},
   "outputs": [
    {
     "name": "stdout",
     "output_type": "stream",
     "text": [
      "2\n",
      "4\n",
      "6\n",
      "8\n",
      "10\n"
     ]
    }
   ],
   "source": [
    "lst=iter([2, 4, 6, 8, 10, 12, 14, 16,18, 20])\n",
    "for i in range(5):\n",
    "    print(next(lst))\n"
   ]
  },
  {
   "cell_type": "markdown",
   "id": "6313b6a4",
   "metadata": {},
   "source": [
    "## Q4. What is a generator function in python? Why yield keyword is used? Give an example of a generator function.\n",
    "## Ans. A generator function in Python is a special type of function that returns a generator iterator. A generator function is defined using the yield keyword instead of the return keyword. When a generator function is called, it returns a generator iterator, which can be used to iterate over a sequence of values produced by the function.\n",
    "\n",
    "## The yield keyword is used in a generator function to produce a value and return it to the caller, while also saving the state of the function so that it can be resumed the next time next() is called on the generator iterator. The yield keyword is used to produce values one at a time, rather than computing all of the values at once and returning them as a list or other collection. This allows the generator function to produce an infinite sequence of values, or to produce a sequence of values that would take too much memory if stored all at once.\n",
    "\n",
    "## Here's an example of a generator function that generates the sequence of Fibonacci numbers:\n",
    "\n"
   ]
  },
  {
   "cell_type": "code",
   "execution_count": 26,
   "id": "24e86335",
   "metadata": {},
   "outputs": [
    {
     "name": "stdout",
     "output_type": "stream",
     "text": [
      "0\n",
      "1\n",
      "1\n",
      "2\n",
      "3\n",
      "5\n",
      "8\n",
      "13\n",
      "21\n",
      "34\n"
     ]
    }
   ],
   "source": [
    "def test_fib(n):\n",
    "    a,b=0,1\n",
    "    for i in range(n):\n",
    "        yield a\n",
    "        a,b=b,a+b\n",
    "        \n",
    "for i in test_fib(10): \n",
    "    print(i)"
   ]
  },
  {
   "cell_type": "markdown",
   "id": "a305411e",
   "metadata": {},
   "source": [
    "## Q5. Create a generator function for prime numbers less than 1000. Use the next() method to print the first 20 prime numbers."
   ]
  },
  {
   "cell_type": "code",
   "execution_count": 29,
   "id": "6ceaa87c",
   "metadata": {},
   "outputs": [
    {
     "name": "stdout",
     "output_type": "stream",
     "text": [
      "1\n",
      "3\n",
      "5\n",
      "7\n",
      "9\n"
     ]
    }
   ],
   "source": [
    "def prime_number(n):\n",
    "    for i in range(n):\n",
    "        if(i%2!=0):\n",
    "            yield i\n",
    "\n",
    "prime=prime_number(1000)\n",
    "\n",
    "for i in range(5):\n",
    "    print(next(prime))\n"
   ]
  },
  {
   "cell_type": "code",
   "execution_count": null,
   "id": "a4e82e45",
   "metadata": {},
   "outputs": [],
   "source": []
  }
 ],
 "metadata": {
  "kernelspec": {
   "display_name": "Python 3 (ipykernel)",
   "language": "python",
   "name": "python3"
  },
  "language_info": {
   "codemirror_mode": {
    "name": "ipython",
    "version": 3
   },
   "file_extension": ".py",
   "mimetype": "text/x-python",
   "name": "python",
   "nbconvert_exporter": "python",
   "pygments_lexer": "ipython3",
   "version": "3.9.13"
  }
 },
 "nbformat": 4,
 "nbformat_minor": 5
}
