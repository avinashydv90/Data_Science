{
 "cells": [
  {
   "cell_type": "markdown",
   "id": "78621bf0",
   "metadata": {},
   "source": [
    "# Q1. Create a function which will take a list as an argument and return the product of all the numbers after creating a flat list. Use the below-given list as an argument for your function.\n",
    "## list1 = [1,2,3,4, [44,55,66, True], False, (34,56,78,89,34), {1,2,3,3,2,1}, {1:34, \"key2\": [55, 67, 78, 89], 4: (45,22, 61, 34)}, [56, 'data science'], 'Machine Learning']\n",
    "## Note: you must extract numeric keys and values of the dictionary also."
   ]
  },
  {
   "cell_type": "code",
   "execution_count": 1,
   "id": "30b70afc",
   "metadata": {},
   "outputs": [],
   "source": [
    "def getproduct(lst):\n",
    "    flat_list=[]\n",
    "    for i in lst:\n",
    "        if type(i)==int:\n",
    "            flat_list.append(i)\n",
    "        elif type(i)==float:\n",
    "            flat_list.append(i)\n",
    "        elif type(i)==list:\n",
    "            for j in i:\n",
    "                if type(j)==int:\n",
    "                    flat_list.append(j)\n",
    "                elif type(j)==float:\n",
    "                    flat_list.append(j)     \n",
    "        elif type(i)==tuple:\n",
    "            for j in i:\n",
    "                if type(j)==int:\n",
    "                    flat_list.append(j)\n",
    "                elif type(j)==float:\n",
    "                    flat_list.append(j)\n",
    "        elif type(i)==set:\n",
    "            for j in i:\n",
    "                if type(j)==int:\n",
    "                    flat_list.append(j)\n",
    "                elif type(j)==float:\n",
    "                    flat_list.append(j)\n",
    "        elif type(i)==dict:\n",
    "            for k in i.values():\n",
    "                if type(k)==int:\n",
    "                    flat_list.append(j)\n",
    "                elif type(k)==float:\n",
    "                    flat_list.append(j)\n",
    "                elif type(k)==list:\n",
    "                    getproduct(k);\n",
    "                elif type(k)==tuple:\n",
    "                    getproduct(k);\n",
    "            \n",
    "    product=1\n",
    "    for i in flat_list:\n",
    "        product=product*i\n",
    "    return product\n",
    "            \n",
    "        \n",
    "        \n",
    "result= getproduct([1,2,3,4, [44,55,66, True], False, (34,56,78,89,34), {1,2,3,3,2,1}, {1:34, \"key2\": [55, 67, 78, 89], 4: (45,\n",
    "22, 61, 34)}, [56, 'data science'], 'Machine Learning'])       "
   ]
  },
  {
   "cell_type": "code",
   "execution_count": 2,
   "id": "ef7136ab",
   "metadata": {},
   "outputs": [
    {
     "data": {
      "text/plain": [
       "1736447053968506880"
      ]
     },
     "execution_count": 2,
     "metadata": {},
     "output_type": "execute_result"
    }
   ],
   "source": [
    "result"
   ]
  },
  {
   "cell_type": "markdown",
   "id": "7a76db8d",
   "metadata": {},
   "source": [
    "## Q2. Write a python program for encrypting a message sent to you by your friend. The logic of encryption should be such that, for a the output should be z. For b, the output should be y. For c, the output should be x respectively. Also, the whitespace should be replaced with a dollar sign. Keep the punctuation marks unchanged.\n",
    "## Input Sentence: I want to become a Data Scientist.\n",
    "## Encrypt the above input sentence using the program you just created.\n",
    "## Note: Convert the given input sentence into lowercase before encrypting. The final output should be lowercase."
   ]
  },
  {
   "cell_type": "code",
   "execution_count": 3,
   "id": "cd91e446",
   "metadata": {},
   "outputs": [
    {
     "name": "stdout",
     "output_type": "stream",
     "text": [
      "r$dzmg$gl$yvxlnv$z$wzgz$hxrvmgrhg.\n"
     ]
    }
   ],
   "source": [
    "def encrypt_message(message):\n",
    "    message = message.lower()\n",
    "    encrypted_message = \"\"\n",
    "    for char in message:\n",
    "        if char == \" \":\n",
    "            encrypted_message += \"$\"\n",
    "        elif char.isalpha():\n",
    "            encrypted_message += chr(122 - ord(char) + 97)\n",
    "        else:\n",
    "            encrypted_message += char\n",
    "    return encrypted_message\n",
    "\n",
    "input_sentence = \"I want to become a Data Scientist.\"\n",
    "print(encrypt_message(input_sentence))\n"
   ]
  },
  {
   "cell_type": "code",
   "execution_count": null,
   "id": "6a501437",
   "metadata": {},
   "outputs": [],
   "source": []
  }
 ],
 "metadata": {
  "kernelspec": {
   "display_name": "Python 3 (ipykernel)",
   "language": "python",
   "name": "python3"
  },
  "language_info": {
   "codemirror_mode": {
    "name": "ipython",
    "version": 3
   },
   "file_extension": ".py",
   "mimetype": "text/x-python",
   "name": "python",
   "nbconvert_exporter": "python",
   "pygments_lexer": "ipython3",
   "version": "3.9.13"
  }
 },
 "nbformat": 4,
 "nbformat_minor": 5
}
