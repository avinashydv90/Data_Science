{
 "cells": [
  {
   "cell_type": "markdown",
   "id": "7485027c",
   "metadata": {},
   "source": [
    "## Q1. You are writing code for a company. The requirement of the company is that you create a python function that will check whether the password entered by the user is correct or not. The function should take the password as input and return the string “Valid Password” if the entered password follows the below-given password guidelines else it should return “Invalid Password”.\n",
    "## Note: 1. The Password should contain at least two uppercase letters and at least two lowercase letters.\n",
    "## 2. The Password should contain at least a number and three special characters.\n",
    "## 3. The length of the password should be 10 characters long."
   ]
  },
  {
   "cell_type": "code",
   "execution_count": 6,
   "id": "7fe209be",
   "metadata": {},
   "outputs": [
    {
     "name": "stdout",
     "output_type": "stream",
     "text": [
      "Valid Password\n"
     ]
    }
   ],
   "source": [
    "def check_password(password):\n",
    "    lowercase_count = 0\n",
    "    uppercase_count = 0\n",
    "    number_count = 0\n",
    "    special_count = 0\n",
    "    for char in password:\n",
    "        if char.islower():\n",
    "            lowercase_count += 1\n",
    "        elif char.isupper():\n",
    "            uppercase_count += 1\n",
    "        elif char.isdigit():\n",
    "            number_count += 1\n",
    "        elif not char.isalnum():\n",
    "            special_count += 1\n",
    "    if lowercase_count >= 2 and uppercase_count >= 2 and number_count >= 1 and special_count >= 3 and len(password) == 10:\n",
    "        return \"Valid Password\"\n",
    "    else:\n",
    "        return \"Invalid Password\"\n",
    "\n",
    "password = \"AAee@@@123\"\n",
    "print(check_password(password))\n"
   ]
  },
  {
   "cell_type": "markdown",
   "id": "675c555a",
   "metadata": {},
   "source": [
    "## Q2. Solve the below-given questions using at least one of the following:\n",
    "## 1. Lambda function\n",
    "## 2. Filter function\n",
    "## 3. Map function\n",
    "## 4. List Comprehension\n",
    "\n",
    "##  Check if the string starts with a particular letter\n",
    "## Check if the string is numeric\n",
    "## Sort a list of tuples having fruit names and their quantity. [(\"mango\",99),(\"orange\",80), (\"grapes\", 1000)-\n",
    "## Find the squares of numbers from 1 to 10\n",
    "## Find the cube root of numbers from 1 to 10\n",
    "## Check if a given number is even\n",
    "## Filter odd numbers from the given list.[1,2,3,4,5,6,7,8,9,10-\n",
    "## Sort a list of integers into positive and negative integers lists. [1,2,3,4,5,6,-1,-2,-3,-4,-5,0]"
   ]
  },
  {
   "cell_type": "code",
   "execution_count": 19,
   "id": "460fbcb8",
   "metadata": {},
   "outputs": [
    {
     "name": "stdout",
     "output_type": "stream",
     "text": [
      "True\n"
     ]
    }
   ],
   "source": [
    "## Check if the string starts with a particular letterY\n",
    "string = \"Yellow Flower\"\n",
    "letter = \"Y\"\n",
    "check = lambda x: True if x[0]=='Y' else False\n",
    "print(check(string))\n"
   ]
  },
  {
   "cell_type": "code",
   "execution_count": 20,
   "id": "e710865c",
   "metadata": {},
   "outputs": [
    {
     "name": "stdout",
     "output_type": "stream",
     "text": [
      "True\n"
     ]
    }
   ],
   "source": [
    "## Check if the string is numericY\n",
    "string = \"12345\"\n",
    "is_numeric = lambda x: x.isdigit()\n",
    "print(any(filter(is_numeric, string)))"
   ]
  },
  {
   "cell_type": "code",
   "execution_count": 12,
   "id": "c85b22d2",
   "metadata": {},
   "outputs": [
    {
     "name": "stdout",
     "output_type": "stream",
     "text": [
      "[('orange', 80), ('mango', 99), ('grapes', 1000)]\n"
     ]
    }
   ],
   "source": [
    "## Sort a list of tuples having fruit names and their quantity. [(\"mango\",99),(\"orange\",80), (\"grapes\", 1000)-\n",
    "fruits = [(\"mango\",99),(\"orange\",80),(\"grapes\",1000)]\n",
    "sorted_fruits = sorted(fruits, key=lambda x: x[1])\n",
    "print(sorted_fruits)\n"
   ]
  },
  {
   "cell_type": "code",
   "execution_count": 27,
   "id": "46a06daa",
   "metadata": {},
   "outputs": [
    {
     "name": "stdout",
     "output_type": "stream",
     "text": [
      "[1, 4, 9, 16, 25, 36, 49, 64, 81, 100]\n"
     ]
    }
   ],
   "source": [
    "## Find the squares of numbers from 1 to 10Y\n",
    "numbers = [1,2,3,4,5,6,7,8,9,10]\n",
    "sqaure=lambda x:x**2\n",
    "squared_numbers = list(map(sqaure,numbers))\n",
    "print(squared_numbers)\n"
   ]
  },
  {
   "cell_type": "code",
   "execution_count": 14,
   "id": "4a45ae17",
   "metadata": {},
   "outputs": [
    {
     "name": "stdout",
     "output_type": "stream",
     "text": [
      "[1.0, 1.2599210498948732, 1.4422495703074083, 1.5874010519681994, 1.7099759466766968, 1.8171205928321397, 1.912931182772389, 2.0, 2.080083823051904, 2.154434690031884]\n"
     ]
    }
   ],
   "source": [
    "## Find the cube root of numbers from 1 to 10Y\n",
    "import math\n",
    "numbers = [1,2,3,4,5,6,7,8,9,10]\n",
    "cuberoot_numbers = [math.pow(x,1/3) for x in numbers]\n",
    "print(cuberoot_numbers)\n"
   ]
  },
  {
   "cell_type": "code",
   "execution_count": 15,
   "id": "0faf19a3",
   "metadata": {},
   "outputs": [
    {
     "name": "stdout",
     "output_type": "stream",
     "text": [
      "True\n"
     ]
    }
   ],
   "source": [
    "## Check if a given number is even\n",
    "number = 4\n",
    "is_even = lambda x: True if x % 2 == 0 else False\n",
    "print(is_even(number))\n"
   ]
  },
  {
   "cell_type": "code",
   "execution_count": 16,
   "id": "fbed9d6b",
   "metadata": {},
   "outputs": [
    {
     "name": "stdout",
     "output_type": "stream",
     "text": [
      "[1, 3, 5, 7, 9]\n"
     ]
    }
   ],
   "source": [
    "## Filter odd numbers from the given list.[1,2,3,4,5,6,7,8,9,10]\n",
    "numbers = [1,2,3,4,5,6,7,8,9,10]\n",
    "is_odd = lambda x: x % 2 != 0\n",
    "odd_numbers = list(filter(is_odd, numbers))\n",
    "print(odd_numbers)\n"
   ]
  },
  {
   "cell_type": "code",
   "execution_count": 17,
   "id": "4e8d4c07",
   "metadata": {},
   "outputs": [
    {
     "name": "stdout",
     "output_type": "stream",
     "text": [
      "[1, 2, 3, 4, 5, 6]\n",
      "[-1, -2, -3, -4, -5]\n"
     ]
    }
   ],
   "source": [
    "## Sort a list of integers into positive and negative integers lists.[1,2,3,4,5,6,-1,-2,-3,-4,-5,0]\n",
    "numbers = [1,2,3,4,5,6,-1,-2,-3,-4,-5,0]\n",
    "positive_numbers = [x for x in numbers if x > 0]\n",
    "negative_numbers = [x for x in numbers if x < 0]\n",
    "print(positive_numbers)\n",
    "print(negative_numbers)\n"
   ]
  },
  {
   "cell_type": "code",
   "execution_count": null,
   "id": "83d8ce05",
   "metadata": {},
   "outputs": [],
   "source": []
  }
 ],
 "metadata": {
  "kernelspec": {
   "display_name": "Python 3 (ipykernel)",
   "language": "python",
   "name": "python3"
  },
  "language_info": {
   "codemirror_mode": {
    "name": "ipython",
    "version": 3
   },
   "file_extension": ".py",
   "mimetype": "text/x-python",
   "name": "python",
   "nbconvert_exporter": "python",
   "pygments_lexer": "ipython3",
   "version": "3.9.13"
  }
 },
 "nbformat": 4,
 "nbformat_minor": 5
}
