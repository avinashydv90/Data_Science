{
 "cells": [
  {
   "cell_type": "markdown",
   "id": "e159d3e1",
   "metadata": {},
   "source": [
    "## Q1. Create a vehicle class with an init method having instance variables as name_of_vehicle, max_speed and average_of_vehicle."
   ]
  },
  {
   "cell_type": "code",
   "execution_count": 1,
   "id": "21748956",
   "metadata": {},
   "outputs": [
    {
     "data": {
      "text/plain": [
       "('Toyota', 200, 24)"
      ]
     },
     "execution_count": 1,
     "metadata": {},
     "output_type": "execute_result"
    }
   ],
   "source": [
    "class vehicle:\n",
    "    def __init__(self,name_of_vehicle, max_speed,average_of_vehicle):\n",
    "        self.name_of_vehicle=name_of_vehicle\n",
    "        self.max_speed=max_speed\n",
    "        self.average_of_vehicle=average_of_vehicle\n",
    "    \n",
    "    def getVehicleDetail(self):\n",
    "        return self.name_of_vehicle,self.max_speed,self.average_of_vehicle\n",
    "\n",
    "obj_vehicle=vehicle('Toyota',200,24)\n",
    "obj_vehicle.getVehicleDetail()"
   ]
  },
  {
   "cell_type": "markdown",
   "id": "9da302ee",
   "metadata": {},
   "source": [
    "## Q2. Create a child class car from the vehicle class created in Que 1, which will inherit the vehicle class.Create a method named seating_capacity which takes capacity as an argument and returns the name of the vehicle and its seating capacity."
   ]
  },
  {
   "cell_type": "code",
   "execution_count": 11,
   "id": "54d615f4",
   "metadata": {},
   "outputs": [
    {
     "data": {
      "text/plain": [
       "'Toyota has seating capacity 60'"
      ]
     },
     "execution_count": 11,
     "metadata": {},
     "output_type": "execute_result"
    }
   ],
   "source": [
    "class Car(vehicle):\n",
    "    def seating_capacity(self, capacity):\n",
    "        return f\"{self.name_of_vehicle} has seating capacity {capacity}\"\n",
    "\n",
    "obj =Car('Toyota',200,24)\n",
    "obj.seating_capacity(60)"
   ]
  },
  {
   "cell_type": "markdown",
   "id": "1cc11469",
   "metadata": {},
   "source": [
    "## Q3. What is multiple inheritance? Write a python code to demonstrate multiple inheritance.\n",
    "## Ans. Multiple inheritance is a feature in object-oriented programming languages that allows a class to inherit characteristics and behaviors from multiple parent classes. This allows for greater code reuse and the creation of more complex and expressive class hierarchies.\n",
    "## Example below\n"
   ]
  },
  {
   "cell_type": "code",
   "execution_count": 12,
   "id": "8b01555c",
   "metadata": {},
   "outputs": [
    {
     "name": "stdout",
     "output_type": "stream",
     "text": [
      "Method 1 from Parent 1\n",
      "Method 2 from Parent 2\n"
     ]
    }
   ],
   "source": [
    "class Parent1:\n",
    "    def method1(self):\n",
    "        print(\"Method 1 from Parent 1\")\n",
    "\n",
    "class Parent2:\n",
    "    def method2(self):\n",
    "        print(\"Method 2 from Parent 2\")\n",
    "\n",
    "class Child(Parent1, Parent2):\n",
    "    pass\n",
    "\n",
    "c = Child()\n",
    "c.method1()\n",
    "c.method2()\n"
   ]
  },
  {
   "cell_type": "markdown",
   "id": "bbca169f",
   "metadata": {},
   "source": [
    "## Q4. What are getter and setter in python? Create a class and create a getter and a setter method in this class.\n",
    "## Getters and setters are special methods in Python classes that allow you to control access to the values of class attributes. Getters are used to retrieve the value of an attribute, while setters are used to set the value of an attribute.\n",
    "\n",
    "## By using getters and setters, you can control access to class attributes, enforce constraints on the values of attributes, and add additional functionality when getting or setting an attribute. This helps you to create a more robust and maintainable code base.\n",
    "\n",
    "## example"
   ]
  },
  {
   "cell_type": "code",
   "execution_count": 21,
   "id": "3c5da2a1",
   "metadata": {},
   "outputs": [
    {
     "name": "stdout",
     "output_type": "stream",
     "text": [
      "10\n",
      "30\n",
      "40\n"
     ]
    }
   ],
   "source": [
    "class Rectangle:\n",
    "    def __init__(self, width, height):\n",
    "        self._width = width\n",
    "        self._height = height\n",
    "    \n",
    "    \n",
    "    def width(self):\n",
    "        return self._width\n",
    "    \n",
    "  \n",
    "    def width(self, value):\n",
    "        if value <= 0:\n",
    "            raise ValueError(\"Width must be positive\")\n",
    "        self._width = value\n",
    "    \n",
    "    \n",
    "    def height(self):\n",
    "        return self._height\n",
    "    \n",
    "   \n",
    "    def height(self, value):\n",
    "        if value <= 0:\n",
    "            raise ValueError(\"Height must be positive\")\n",
    "        self._height = value\n",
    "\n",
    "rect = Rectangle(10, 20)\n",
    "print(rect._width) \n",
    "rect.width = 30\n",
    "print(rect.width)\n",
    "rect.height = 40\n",
    "print(rect.height) "
   ]
  },
  {
   "cell_type": "markdown",
   "id": "67b66f4a",
   "metadata": {},
   "source": [
    "## Q5.What is method overriding in python? Write a python code to demonstrate method overriding.\n",
    "## Ans. Method overriding is a feature of object-oriented programming that allows a subclass to provide a new implementation for a method that is already defined in its parent class. The new implementation can change the behavior of the method, but it must have the same name and signature as the original method.\n",
    "\n",
    "## Method overriding is useful when you want to reuse the code from a parent class, but change its behavior for a specific use case in the subclass. This helps you to create more specialized and flexible classes that can be adapted to different situations.\n",
    "\n",
    "## example "
   ]
  },
  {
   "cell_type": "code",
   "execution_count": 22,
   "id": "aef3968b",
   "metadata": {},
   "outputs": [
    {
     "name": "stdout",
     "output_type": "stream",
     "text": [
      "200\n",
      "314.0\n"
     ]
    }
   ],
   "source": [
    "class Shape:\n",
    "    def area(self):\n",
    "        raise NotImplementedError(\"Subclasses must implement this method\")\n",
    "\n",
    "class Rectangle(Shape):\n",
    "    def __init__(self, width, height):\n",
    "        self.width = width\n",
    "        self.height = height\n",
    "    \n",
    "    def area(self):\n",
    "        return self.width * self.height\n",
    "\n",
    "class Circle(Shape):\n",
    "    def __init__(self, radius):\n",
    "        self.radius = radius\n",
    "    \n",
    "    def area(self):\n",
    "        return 3.14 * self.radius * self.radius\n",
    "    \n",
    "rect = Rectangle(10, 20)\n",
    "print(rect.area()) # prints 200\n",
    "\n",
    "circle = Circle(10)\n",
    "print(circle.area()) # prints 314.0\n"
   ]
  },
  {
   "cell_type": "code",
   "execution_count": null,
   "id": "552c7c0a",
   "metadata": {},
   "outputs": [],
   "source": []
  }
 ],
 "metadata": {
  "kernelspec": {
   "display_name": "Python 3 (ipykernel)",
   "language": "python",
   "name": "python3"
  },
  "language_info": {
   "codemirror_mode": {
    "name": "ipython",
    "version": 3
   },
   "file_extension": ".py",
   "mimetype": "text/x-python",
   "name": "python",
   "nbconvert_exporter": "python",
   "pygments_lexer": "ipython3",
   "version": "3.9.13"
  }
 },
 "nbformat": 4,
 "nbformat_minor": 5
}
